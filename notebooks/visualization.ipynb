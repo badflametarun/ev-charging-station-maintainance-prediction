{
 "cells": [
  {
   "cell_type": "code",
   "execution_count": 2,
   "metadata": {},
   "outputs": [],
   "source": [
    "import pandas as pd"
   ]
  },
  {
   "cell_type": "code",
   "execution_count": 3,
   "metadata": {},
   "outputs": [
    {
     "data": {
      "text/html": [
       "<div>\n",
       "<style scoped>\n",
       "    .dataframe tbody tr th:only-of-type {\n",
       "        vertical-align: middle;\n",
       "    }\n",
       "\n",
       "    .dataframe tbody tr th {\n",
       "        vertical-align: top;\n",
       "    }\n",
       "\n",
       "    .dataframe thead th {\n",
       "        text-align: right;\n",
       "    }\n",
       "</style>\n",
       "<table border=\"1\" class=\"dataframe\">\n",
       "  <thead>\n",
       "    <tr style=\"text-align: right;\">\n",
       "      <th></th>\n",
       "      <th>charging_station_id</th>\n",
       "      <th>location</th>\n",
       "      <th>time_of_day</th>\n",
       "      <th>next_maintenance_days</th>\n",
       "      <th>usage_efficiency</th>\n",
       "      <th>maintenance_needed</th>\n",
       "      <th>fault_probability</th>\n",
       "      <th>charging_sessions</th>\n",
       "      <th>total_energy_delivered_kW</th>\n",
       "      <th>last_maintenance_date</th>\n",
       "      <th>charging_duration_hours</th>\n",
       "      <th>temperature</th>\n",
       "      <th>voltage</th>\n",
       "      <th>current</th>\n",
       "      <th>user_feedback</th>\n",
       "    </tr>\n",
       "  </thead>\n",
       "  <tbody>\n",
       "    <tr>\n",
       "      <th>0</th>\n",
       "      <td>1</td>\n",
       "      <td>Location C</td>\n",
       "      <td>Night</td>\n",
       "      <td>269.6</td>\n",
       "      <td>1.0</td>\n",
       "      <td>Software Update</td>\n",
       "      <td>0.06</td>\n",
       "      <td>6</td>\n",
       "      <td>639.842852</td>\n",
       "      <td>2024-10-23 04:54:31.926507</td>\n",
       "      <td>0.994945</td>\n",
       "      <td>17.014549</td>\n",
       "      <td>201.947638</td>\n",
       "      <td>78.460496</td>\n",
       "      <td>3</td>\n",
       "    </tr>\n",
       "    <tr>\n",
       "      <th>1</th>\n",
       "      <td>2</td>\n",
       "      <td>Location B</td>\n",
       "      <td>Morning</td>\n",
       "      <td>58.3</td>\n",
       "      <td>1.0</td>\n",
       "      <td>Connector Cleaning</td>\n",
       "      <td>0.03</td>\n",
       "      <td>3</td>\n",
       "      <td>477.459579</td>\n",
       "      <td>2024-03-26 09:02:31.926507</td>\n",
       "      <td>1.726527</td>\n",
       "      <td>25.368145</td>\n",
       "      <td>377.111947</td>\n",
       "      <td>95.831005</td>\n",
       "      <td>2</td>\n",
       "    </tr>\n",
       "    <tr>\n",
       "      <th>2</th>\n",
       "      <td>3</td>\n",
       "      <td>Location D</td>\n",
       "      <td>Evening</td>\n",
       "      <td>278.7</td>\n",
       "      <td>1.0</td>\n",
       "      <td>Connector Cleaning</td>\n",
       "      <td>0.07</td>\n",
       "      <td>7</td>\n",
       "      <td>213.178622</td>\n",
       "      <td>2024-11-01 17:17:31.926507</td>\n",
       "      <td>1.602714</td>\n",
       "      <td>19.881696</td>\n",
       "      <td>303.748184</td>\n",
       "      <td>61.473404</td>\n",
       "      <td>4</td>\n",
       "    </tr>\n",
       "    <tr>\n",
       "      <th>3</th>\n",
       "      <td>4</td>\n",
       "      <td>Location A</td>\n",
       "      <td>Night</td>\n",
       "      <td>347.8</td>\n",
       "      <td>1.0</td>\n",
       "      <td>Connector Cleaning</td>\n",
       "      <td>0.08</td>\n",
       "      <td>8</td>\n",
       "      <td>205.094803</td>\n",
       "      <td>2025-01-09 12:12:31.926507</td>\n",
       "      <td>0.978393</td>\n",
       "      <td>22.106901</td>\n",
       "      <td>353.341956</td>\n",
       "      <td>45.848011</td>\n",
       "      <td>1</td>\n",
       "    </tr>\n",
       "    <tr>\n",
       "      <th>4</th>\n",
       "      <td>5</td>\n",
       "      <td>Location B</td>\n",
       "      <td>Evening</td>\n",
       "      <td>134.5</td>\n",
       "      <td>1.0</td>\n",
       "      <td>Cable Inspection</td>\n",
       "      <td>0.05</td>\n",
       "      <td>5</td>\n",
       "      <td>808.333814</td>\n",
       "      <td>2024-06-10 10:23:31.926507</td>\n",
       "      <td>1.022105</td>\n",
       "      <td>31.624070</td>\n",
       "      <td>266.533409</td>\n",
       "      <td>77.774232</td>\n",
       "      <td>2</td>\n",
       "    </tr>\n",
       "  </tbody>\n",
       "</table>\n",
       "</div>"
      ],
      "text/plain": [
       "   charging_station_id    location time_of_day  next_maintenance_days  \\\n",
       "0                    1  Location C       Night                  269.6   \n",
       "1                    2  Location B     Morning                   58.3   \n",
       "2                    3  Location D     Evening                  278.7   \n",
       "3                    4  Location A       Night                  347.8   \n",
       "4                    5  Location B     Evening                  134.5   \n",
       "\n",
       "   usage_efficiency  maintenance_needed  fault_probability  charging_sessions  \\\n",
       "0               1.0     Software Update               0.06                  6   \n",
       "1               1.0  Connector Cleaning               0.03                  3   \n",
       "2               1.0  Connector Cleaning               0.07                  7   \n",
       "3               1.0  Connector Cleaning               0.08                  8   \n",
       "4               1.0    Cable Inspection               0.05                  5   \n",
       "\n",
       "   total_energy_delivered_kW       last_maintenance_date  \\\n",
       "0                 639.842852  2024-10-23 04:54:31.926507   \n",
       "1                 477.459579  2024-03-26 09:02:31.926507   \n",
       "2                 213.178622  2024-11-01 17:17:31.926507   \n",
       "3                 205.094803  2025-01-09 12:12:31.926507   \n",
       "4                 808.333814  2024-06-10 10:23:31.926507   \n",
       "\n",
       "   charging_duration_hours  temperature     voltage    current  user_feedback  \n",
       "0                 0.994945    17.014549  201.947638  78.460496              3  \n",
       "1                 1.726527    25.368145  377.111947  95.831005              2  \n",
       "2                 1.602714    19.881696  303.748184  61.473404              4  \n",
       "3                 0.978393    22.106901  353.341956  45.848011              1  \n",
       "4                 1.022105    31.624070  266.533409  77.774232              2  "
      ]
     },
     "execution_count": 3,
     "metadata": {},
     "output_type": "execute_result"
    }
   ],
   "source": [
    "df = pd.read_csv('../data/charging_station_data.csv')\n",
    "df.head()"
   ]
  },
  {
   "cell_type": "code",
   "execution_count": 4,
   "metadata": {},
   "outputs": [
    {
     "name": "stdout",
     "output_type": "stream",
     "text": [
      "Unique locations: ['Location C' 'Location B' 'Location D' 'Location A']\n",
      "Unique times of day: ['Night' 'Morning' 'Evening' 'Afternoon']\n",
      "Unique maintenance needed: ['Software Update' 'Connector Cleaning' 'Cable Inspection' 'Battery Check']\n"
     ]
    }
   ],
   "source": [
    "print(\"Unique locations:\", df['location'].unique())\n",
    "print(\"Unique times of day:\", df['time_of_day'].unique())\n",
    "print(\"Unique maintenance needed:\", df['maintenance_needed'].unique())"
   ]
  },
  {
   "cell_type": "code",
   "execution_count": 5,
   "metadata": {},
   "outputs": [
    {
     "name": "stdout",
     "output_type": "stream",
     "text": [
      "0          Software Update\n",
      "1       Connector Cleaning\n",
      "2       Connector Cleaning\n",
      "3       Connector Cleaning\n",
      "4         Cable Inspection\n",
      "               ...        \n",
      "4995      Cable Inspection\n",
      "4996         Battery Check\n",
      "4997      Cable Inspection\n",
      "4998      Cable Inspection\n",
      "4999       Software Update\n",
      "Name: maintenance_needed, Length: 5000, dtype: object\n"
     ]
    }
   ],
   "source": [
    "print(df['maintenance_needed'])"
   ]
  },
  {
   "cell_type": "code",
   "execution_count": 6,
   "metadata": {},
   "outputs": [],
   "source": [
    "df['maintenance_needed'].to_csv('maintenance_needed.txt', index=False, header=False)"
   ]
  },
  {
   "cell_type": "code",
   "execution_count": 1,
   "metadata": {},
   "outputs": [
    {
     "name": "stdout",
     "output_type": "stream",
     "text": [
      "Minimum charging sessions: 0\n",
      "Maximum charging sessions: 15\n"
     ]
    }
   ],
   "source": [
    "import pandas as pd\n",
    "\n",
    "# Load the CSV file\n",
    "file_path = '../data/charging_station_data.csv'\n",
    "data = pd.read_csv(file_path)\n",
    "\n",
    "# Calculate the minimum and maximum values of charging_sessions\n",
    "min_sessions = data['charging_sessions'].min()\n",
    "max_sessions = data['charging_sessions'].max()\n",
    "\n",
    "print(f\"Minimum charging sessions: {min_sessions}\")\n",
    "print(f\"Maximum charging sessions: {max_sessions}\")"
   ]
  },
  {
   "cell_type": "code",
   "execution_count": 2,
   "metadata": {},
   "outputs": [
    {
     "name": "stdout",
     "output_type": "stream",
     "text": [
      "10.048204788704428\n",
      "999.7467038074456\n"
     ]
    }
   ],
   "source": [
    "print(data['total_energy_delivered_kW'].min())\n",
    "print(data['total_energy_delivered_kW'].max())"
   ]
  },
  {
   "cell_type": "code",
   "execution_count": 3,
   "metadata": {},
   "outputs": [
    {
     "name": "stdout",
     "output_type": "stream",
     "text": [
      "0.5\n",
      "3.154994036448368\n"
     ]
    }
   ],
   "source": [
    "print(data['charging_duration_hours'].min())\n",
    "print(data['charging_duration_hours'].max())"
   ]
  },
  {
   "cell_type": "code",
   "execution_count": 8,
   "metadata": {},
   "outputs": [
    {
     "name": "stdout",
     "output_type": "stream",
     "text": [
      "10.004733696005427\n",
      "99.98032597689485\n",
      "200.0527628328092\n",
      "399.9846337903469\n",
      "15.001944178135227\n",
      "39.99580765040277\n"
     ]
    }
   ],
   "source": [
    "print(data['current'].min())\n",
    "print(data['current'].max())\n",
    "print(data['voltage'].min())\n",
    "print(data['voltage'].max())\n",
    "print(data['temperature'].min())\n",
    "print(data['temperature'].max())"
   ]
  },
  {
   "cell_type": "code",
   "execution_count": null,
   "metadata": {},
   "outputs": [],
   "source": []
  }
 ],
 "metadata": {
  "kernelspec": {
   "display_name": "Python 3",
   "language": "python",
   "name": "python3"
  },
  "language_info": {
   "codemirror_mode": {
    "name": "ipython",
    "version": 3
   },
   "file_extension": ".py",
   "mimetype": "text/x-python",
   "name": "python",
   "nbconvert_exporter": "python",
   "pygments_lexer": "ipython3",
   "version": "3.11.11"
  }
 },
 "nbformat": 4,
 "nbformat_minor": 2
}
